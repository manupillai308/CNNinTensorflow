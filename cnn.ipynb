{
 "cells": [
  {
   "cell_type": "code",
   "execution_count": 1,
   "metadata": {},
   "outputs": [],
   "source": [
    "import tensorflow as tf"
   ]
  },
  {
   "cell_type": "code",
   "execution_count": 4,
   "metadata": {},
   "outputs": [],
   "source": [
    "from sklearn.datasets import fetch_mldata"
   ]
  },
  {
   "cell_type": "code",
   "execution_count": 684,
   "metadata": {},
   "outputs": [],
   "source": [
    "data = fetch_mldata('mnist original')"
   ]
  },
  {
   "cell_type": "code",
   "execution_count": 685,
   "metadata": {},
   "outputs": [],
   "source": [
    "x_data, y_data = data.data[:], data.target[:]"
   ]
  },
  {
   "cell_type": "code",
   "execution_count": 686,
   "metadata": {},
   "outputs": [
    {
     "data": {
      "text/plain": [
       "(70000, 784)"
      ]
     },
     "execution_count": 686,
     "metadata": {},
     "output_type": "execute_result"
    }
   ],
   "source": [
    "x_data.shape"
   ]
  },
  {
   "cell_type": "code",
   "execution_count": 687,
   "metadata": {},
   "outputs": [],
   "source": [
    "indexes = []\n",
    "for i in range(x_data.shape[0]):\n",
    "    if y_data[i] > 5:\n",
    "        indexes.append(i)"
   ]
  },
  {
   "cell_type": "code",
   "execution_count": 688,
   "metadata": {},
   "outputs": [],
   "source": [
    "x_data = np.delete(x_data, indexes, axis=0)\n",
    "y_data = np.delete(y_data, indexes)"
   ]
  },
  {
   "cell_type": "code",
   "execution_count": 691,
   "metadata": {},
   "outputs": [
    {
     "data": {
      "text/plain": [
       "((42048, 784), (42048,))"
      ]
     },
     "execution_count": 691,
     "metadata": {},
     "output_type": "execute_result"
    }
   ],
   "source": [
    "x_data.shape, y_data.shape"
   ]
  },
  {
   "cell_type": "code",
   "execution_count": 697,
   "metadata": {},
   "outputs": [
    {
     "data": {
      "text/plain": [
       "(array([0., 1., 2., 3., 4., 5.]),\n",
       " array([6903, 7877, 6990, 7141, 6824, 6313], dtype=int64))"
      ]
     },
     "execution_count": 697,
     "metadata": {},
     "output_type": "execute_result"
    }
   ],
   "source": [
    "np.unique(y_data, return_counts= True)"
   ]
  },
  {
   "cell_type": "code",
   "execution_count": 694,
   "metadata": {},
   "outputs": [],
   "source": [
    "x_data = x_data/255"
   ]
  },
  {
   "cell_type": "code",
   "execution_count": 717,
   "metadata": {},
   "outputs": [],
   "source": [
    "x_data = x_data.reshape((x_data.shape[0],height, width, 1))"
   ]
  },
  {
   "cell_type": "code",
   "execution_count": 477,
   "metadata": {},
   "outputs": [],
   "source": [
    "import numpy as np"
   ]
  },
  {
   "cell_type": "code",
   "execution_count": 434,
   "metadata": {},
   "outputs": [],
   "source": [
    "import matplotlib.pyplot as plt\n",
    "%matplotlib inline"
   ]
  },
  {
   "cell_type": "code",
   "execution_count": 459,
   "metadata": {},
   "outputs": [
    {
     "data": {
      "image/png": "[encoded data removed]",
      "text/plain": [
       "<Figure size 288x288 with 1 Axes>"
      ]
     },
     "metadata": {},
     "output_type": "display_data"
    }
   ],
   "source": [
    "plt.matshow(x_data[67000], cmap = 'gray')\n",
    "plt.show()"
   ]
  },
  {
   "cell_type": "code",
   "execution_count": 10,
   "metadata": {},
   "outputs": [],
   "source": [
    "from sklearn.model_selection import StratifiedShuffleSplit"
   ]
  },
  {
   "cell_type": "code",
   "execution_count": 718,
   "metadata": {},
   "outputs": [],
   "source": [
    "sssplit = StratifiedShuffleSplit(random_state= 42)"
   ]
  },
  {
   "cell_type": "code",
   "execution_count": 719,
   "metadata": {},
   "outputs": [],
   "source": [
    "for x_train_index, x_test_index in sssplit.split(x_data, y_data):\n",
    "    x_train, y_train = x_data[x_train_index], y_data[x_train_index]\n",
    "    x_test, y_test = x_data[x_test_index], y_data[x_test_index]"
   ]
  },
  {
   "cell_type": "code",
   "execution_count": 720,
   "metadata": {},
   "outputs": [],
   "source": [
    "def next_batch(batch_size = 50, x_train = x_train, y_train = y_train):\n",
    "    prev = 0\n",
    "    for i in range(batch_size , x_train.shape[0], batch_size):\n",
    "        yield x_train[prev:i], y_train[prev:i]\n",
    "        prev = i\n",
    "    "
   ]
  },
  {
   "cell_type": "code",
   "execution_count": 721,
   "metadata": {},
   "outputs": [
    {
     "data": {
      "text/plain": [
       "(50, 28, 28, 1)"
      ]
     },
     "execution_count": 721,
     "metadata": {},
     "output_type": "execute_result"
    }
   ],
   "source": [
    "next(next_batch())[0].shape"
   ]
  },
  {
   "cell_type": "code",
   "execution_count": 722,
   "metadata": {},
   "outputs": [],
   "source": [
    "tf.reset_default_graph()"
   ]
  },
  {
   "cell_type": "code",
   "execution_count": 723,
   "metadata": {},
   "outputs": [],
   "source": [
    "height = 28\n",
    "width = 28\n",
    "channels = 1\n",
    "learning_rate = 0.001\n",
    "n_epochs = 40\n",
    "batch_size = 50\n",
    "data_size = x_train.shape[0]"
   ]
  },
  {
   "cell_type": "code",
   "execution_count": 724,
   "metadata": {},
   "outputs": [],
   "source": [
    "with tf.name_scope(\"input\"):\n",
    "    X = tf.placeholder(shape = (None, height, width, channels), dtype = tf.float32)\n",
    "    y = tf.placeholder(shape = (None), dtype = tf.int32)"
   ]
  },
  {
   "cell_type": "code",
   "execution_count": 725,
   "metadata": {},
   "outputs": [],
   "source": [
    "he_init = tf.contrib.layers.variance_scaling_initializer()"
   ]
  },
  {
   "cell_type": "code",
   "execution_count": 726,
   "metadata": {},
   "outputs": [],
   "source": [
    "with tf.name_scope(\"cnn\"):\n",
    "    conv1 = tf.layers.conv2d(X, filters= 2, kernel_size= 7, strides=[1,1], padding = \"SAME\", name = \"CONV1\")\n",
    "    pool1 = tf.nn.max_pool(conv1, ksize = [1,2,2,1], strides = [1,2,2,1], padding = \"VALID\", name = \"POOL1\")\n",
    "    conv2 = tf.layers.conv2d(pool1, filters = 3, kernel_size = 3, strides=[2,2], padding = \"SAME\", name = \"CONV2\")\n",
    "    pool2 = tf.nn.avg_pool(conv2, ksize = [1,3,3,1], strides = [1,1,1,1], padding = \"VALID\", name = \"POOL2\")\n",
    "    flatten = tf.layers.flatten(pool2, name = \"FLATTEN\")\n",
    "    dense1 = tf.layers.dense(inputs=flatten, units = 20, activation=tf.nn.elu, kernel_initializer= he_init, name = \"DENSE1\")\n",
    "    logits = tf.layers.dense(inputs= dense1, units=10, activation = None, kernel_initializer= he_init, name = \"LOGITS\")"
   ]
  },
  {
   "cell_type": "code",
   "execution_count": 727,
   "metadata": {},
   "outputs": [],
   "source": [
    "with tf.name_scope(\"gradients\"):\n",
    "    grad = tf.train.MomentumOptimizer(momentum = 0.9,learning_rate= learning_rate, use_nesterov=True)"
   ]
  },
  {
   "cell_type": "code",
   "execution_count": 728,
   "metadata": {},
   "outputs": [],
   "source": [
    "with tf.name_scope(\"loss\"):\n",
    "    xentropy = tf.nn.sparse_softmax_cross_entropy_with_logits(logits=logits,labels= y, name = \"xENTROPY\")\n",
    "    loss = tf.reduce_mean(xentropy, name = \"LOSS\")"
   ]
  },
  {
   "cell_type": "code",
   "execution_count": 729,
   "metadata": {},
   "outputs": [],
   "source": [
    "with tf.name_scope(\"accuracy\"):\n",
    "    pred = tf.nn.in_top_k(k=1, predictions=logits, targets=y, name = \"PREDICTIONS\")\n",
    "    acc = tf.reduce_mean(tf.cast(pred, tf.float32))"
   ]
  },
  {
   "cell_type": "code",
   "execution_count": 730,
   "metadata": {},
   "outputs": [],
   "source": [
    "with tf.name_scope(\"training_op\"):\n",
    "    training_op = grad.minimize(loss)"
   ]
  },
  {
   "cell_type": "code",
   "execution_count": 732,
   "metadata": {},
   "outputs": [],
   "source": [
    "init = tf.global_variables_initializer()\n",
    "saver = tf.train.Saver()"
   ]
  },
  {
   "cell_type": "code",
   "execution_count": 733,
   "metadata": {
    "scrolled": true
   },
   "outputs": [
    {
     "name": "stdout",
     "output_type": "stream",
     "text": [
      "epoch 0 Training accuracy: 0.84 Testing accuracy: 0.8416171\n",
      "epoch 1 Training accuracy: 0.88 Testing accuracy: 0.89298457\n",
      "epoch 2 Training accuracy: 0.92 Testing accuracy: 0.91034484\n",
      "epoch 3 Training accuracy: 0.92 Testing accuracy: 0.9210464\n",
      "epoch 4 Training accuracy: 0.94 Testing accuracy: 0.9300832\n",
      "epoch 5 Training accuracy: 0.96 Testing accuracy: 0.934126\n",
      "epoch 6 Training accuracy: 0.96 Testing accuracy: 0.93626636\n",
      "epoch 7 Training accuracy: 0.96 Testing accuracy: 0.9426873\n",
      "epoch 8 Training accuracy: 0.98 Testing accuracy: 0.94791913\n",
      "epoch 9 Training accuracy: 0.98 Testing accuracy: 0.95386446\n",
      "epoch 10 Training accuracy: 0.98 Testing accuracy: 0.9571938\n",
      "epoch 11 Training accuracy: 0.98 Testing accuracy: 0.9629013\n",
      "epoch 12 Training accuracy: 0.98 Testing accuracy: 0.96504164\n",
      "epoch 13 Training accuracy: 0.98 Testing accuracy: 0.9671819\n",
      "epoch 14 Training accuracy: 0.98 Testing accuracy: 0.96956\n",
      "epoch 15 Training accuracy: 0.98 Testing accuracy: 0.97217596\n",
      "epoch 16 Training accuracy: 0.98 Testing accuracy: 0.9740785\n",
      "epoch 17 Training accuracy: 0.98 Testing accuracy: 0.97621876\n",
      "epoch 18 Training accuracy: 0.98 Testing accuracy: 0.9764566\n",
      "epoch 19 Training accuracy: 0.98 Testing accuracy: 0.9781213\n",
      "epoch 20 Training accuracy: 0.98 Testing accuracy: 0.979786\n",
      "epoch 21 Training accuracy: 0.98 Testing accuracy: 0.9807372\n",
      "epoch 22 Training accuracy: 0.98 Testing accuracy: 0.98097503\n",
      "epoch 23 Training accuracy: 0.98 Testing accuracy: 0.98121285\n",
      "epoch 24 Training accuracy: 0.98 Testing accuracy: 0.9821641\n",
      "epoch 25 Training accuracy: 0.98 Testing accuracy: 0.9821641\n",
      "epoch 26 Training accuracy: 0.98 Testing accuracy: 0.98192626\n",
      "epoch 27 Training accuracy: 0.98 Testing accuracy: 0.9821641\n",
      "epoch 28 Training accuracy: 0.98 Testing accuracy: 0.9821641\n",
      "epoch 29 Training accuracy: 0.98 Testing accuracy: 0.9824019\n",
      "epoch 30 Training accuracy: 0.98 Testing accuracy: 0.98263973\n",
      "epoch 31 Training accuracy: 0.98 Testing accuracy: 0.98263973\n",
      "epoch 32 Training accuracy: 0.98 Testing accuracy: 0.98263973\n",
      "epoch 33 Training accuracy: 0.98 Testing accuracy: 0.9831153\n",
      "epoch 34 Training accuracy: 1.0 Testing accuracy: 0.98335314\n",
      "epoch 35 Training accuracy: 1.0 Testing accuracy: 0.9840666\n",
      "epoch 36 Training accuracy: 1.0 Testing accuracy: 0.9840666\n",
      "epoch 37 Training accuracy: 1.0 Testing accuracy: 0.9845422\n",
      "epoch 38 Training accuracy: 1.0 Testing accuracy: 0.98478\n",
      "epoch 39 Training accuracy: 1.0 Testing accuracy: 0.98478\n"
     ]
    }
   ],
   "source": [
    "with tf.Session() as sess:\n",
    "    init.run()\n",
    "    for epoch in range(n_epochs):\n",
    "        batch = next_batch(batch_size=batch_size)\n",
    "        for iteration in range(data_size//batch_size):\n",
    "            try:\n",
    "                x_Train, y_Train = next(batch)\n",
    "            except StopIteration:\n",
    "                pass\n",
    "            else:\n",
    "                sess.run(training_op, feed_dict = {X:x_Train, y: y_Train})\n",
    "        acc_train = acc.eval(feed_dict = {X: x_Train, y:y_Train})\n",
    "        acc_test = acc.eval(feed_dict = {X: x_test, y: y_test})\n",
    "        print(\"epoch\", epoch, \"Training accuracy:\", acc_train, \"Testing accuracy:\", acc_test)\n",
    "    saver.save(sess, './mymodel.ckpt')"
   ]
  },
  {
   "cell_type": "code",
   "execution_count": null,
   "metadata": {},
   "outputs": [],
   "source": []
  }
 ],
 "metadata": {
  "kernelspec": {
   "display_name": "Python 3",
   "language": "python",
   "name": "python3"
  },
  "language_info": {
   "codemirror_mode": {
    "name": "ipython",
    "version": 3
   },
   "file_extension": ".py",
   "mimetype": "text/x-python",
   "name": "python",
   "nbconvert_exporter": "python",
   "pygments_lexer": "ipython3",
   "version": "3.6.6"
  }
 },
 "nbformat": 4,
 "nbformat_minor": 2
}
